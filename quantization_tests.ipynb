{
 "cells": [
  {
   "cell_type": "code",
   "execution_count": 8,
   "metadata": {},
   "outputs": [],
   "source": [
    "import numpy as np\n",
    "import scipy\n",
    "import matplotlib.pyplot as plt\n",
    "import torch\n",
    "import torch.nn as nn\n",
    "import torchvision as tv"
   ]
  },
  {
   "cell_type": "markdown",
   "metadata": {},
   "source": [
    "Lets test our uniform quantization"
   ]
  },
  {
   "cell_type": "code",
   "execution_count": 2,
   "metadata": {},
   "outputs": [],
   "source": [
    "from uniform_quantization import uniform_quantization"
   ]
  },
  {
   "cell_type": "code",
   "execution_count": 3,
   "metadata": {},
   "outputs": [
    {
     "data": {
      "text/plain": [
       "[<matplotlib.lines.Line2D at 0x7f485cd36790>]"
      ]
     },
     "execution_count": 3,
     "metadata": {},
     "output_type": "execute_result"
    },
    {
     "data": {
      "image/png": "[encoded data removed]",
      "text/plain": [
       "<Figure size 432x288 with 1 Axes>"
      ]
     },
     "metadata": {
      "needs_background": "light"
     },
     "output_type": "display_data"
    }
   ],
   "source": [
    "x = np.linspace(-1, 1, 100)\n",
    "\n",
    "x_q = torch.from_numpy(x)\n",
    "x_q, scale = uniform_quantization(x_q, torch.max(torch.abs(x_q)))\n",
    "\n",
    "plt.plot(x_q.numpy()*scale.numpy(), np.arange(100), c='r')\n",
    "plt.plot(x, np.arange(100))"
   ]
  },
  {
   "cell_type": "markdown",
   "metadata": {},
   "source": [
    "Now lets test our quantized functions"
   ]
  },
  {
   "cell_type": "code",
   "execution_count": 4,
   "metadata": {},
   "outputs": [],
   "source": [
    "from quantized_functions import *"
   ]
  },
  {
   "cell_type": "code",
   "execution_count": 12,
   "metadata": {},
   "outputs": [],
   "source": [
    "constants = (-0.2888, -1.769, 1)\n",
    "q_poly, scale_poly = integer_second_order_polynomial(x_q, scale, constants)\n",
    "\n"
   ]
  },
  {
   "cell_type": "code",
   "execution_count": 10,
   "metadata": {},
   "outputs": [
    {
     "data": {
      "text/plain": [
       "[<matplotlib.lines.Line2D at 0x7f485bd94520>]"
      ]
     },
     "execution_count": 10,
     "metadata": {},
     "output_type": "execute_result"
    },
    {
     "data": {
      "image/png": "[encoded data removed]",
      "text/plain": [
       "<Figure size 432x288 with 1 Axes>"
      ]
     },
     "metadata": {
      "needs_background": "light"
     },
     "output_type": "display_data"
    }
   ],
   "source": [
    "erf = scipy.special.erf(x)\n",
    "q_erf, scale_erf = quantized_error_function(x_q, scale)\n",
    "\n",
    "plt.plot(q_erf.numpy()*scale_erf.numpy(), np.arange(100), c='r')\n",
    "plt.plot(x, np.arange(100))"
   ]
  },
  {
   "cell_type": "code",
   "execution_count": 11,
   "metadata": {},
   "outputs": [
    {
     "data": {
      "text/plain": [
       "tensor([ 40,  40,  40,  40,  40,  40,  40,  40,  40,  40,  40,  40,  40,  40,\n",
       "         40,  40,  40,  40,  40,  40,  40,  40,  40,  40,  40,  40,  40,  40,\n",
       "         40,  40,  40,  40,  40,  40,  40,  40,  40,  40,  40,  40,  40,  40,\n",
       "         40,  40,  40,  40,  40,  40,  40,  40, -40, -40, -40, -40, -40, -40,\n",
       "        -40, -40, -40, -40, -40, -40, -40, -40, -40, -40, -40, -40, -40, -40,\n",
       "        -40, -40, -40, -40, -40, -40, -40, -40, -40, -40, -40, -40, -40, -40,\n",
       "        -40, -40, -40, -40, -40, -40, -40, -40, -40, -40, -40, -40, -40, -40,\n",
       "        -40, -40], dtype=torch.int8)"
      ]
     },
     "execution_count": 11,
     "metadata": {},
     "output_type": "execute_result"
    }
   ],
   "source": [
    "q_erf"
   ]
  },
  {
   "cell_type": "code",
   "execution_count": null,
   "metadata": {},
   "outputs": [],
   "source": []
  }
 ],
 "metadata": {
  "kernelspec": {
   "display_name": "Python 3",
   "language": "python",
   "name": "python3"
  },
  "language_info": {
   "codemirror_mode": {
    "name": "ipython",
    "version": 3
   },
   "file_extension": ".py",
   "mimetype": "text/x-python",
   "name": "python",
   "nbconvert_exporter": "python",
   "pygments_lexer": "ipython3",
   "version": "3.8.3"
  }
 },
 "nbformat": 4,
 "nbformat_minor": 4
}
