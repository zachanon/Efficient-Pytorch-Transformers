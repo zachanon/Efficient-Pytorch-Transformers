{
 "cells": [
  {
   "cell_type": "code",
   "execution_count": 1,
   "metadata": {},
   "outputs": [],
   "source": [
    "import numpy as np\n",
    "import scipy\n",
    "import matplotlib.pyplot as plt\n",
    "import torch\n",
    "import torch.nn as nn\n",
    "import torchvision as tv"
   ]
  },
  {
   "cell_type": "code",
   "execution_count": null,
   "metadata": {},
   "outputs": [],
   "source": []
  },
  {
   "cell_type": "markdown",
   "metadata": {},
   "source": [
    "Uniform Quantization Test"
   ]
  },
  {
   "cell_type": "code",
   "execution_count": 2,
   "metadata": {},
   "outputs": [],
   "source": [
    "from uniform_quantization import uniform_quantization"
   ]
  },
  {
   "cell_type": "code",
   "execution_count": 3,
   "metadata": {},
   "outputs": [],
   "source": [
    "x = np.linspace(-1, 1, 100)\n",
    "\n",
    "x_q = torch.from_numpy(x)\n",
    "x_q, scale = uniform_quantization(x_q, torch.max(torch.abs(x_q)))"
   ]
  },
  {
   "cell_type": "code",
   "execution_count": 4,
   "metadata": {},
   "outputs": [
    {
     "data": {
      "text/plain": [
       "(tensor([-127, -124, -121, -119, -116, -114, -111, -109, -106, -103, -101,  -98,\n",
       "          -96,  -93,  -91,  -88,  -85,  -83,  -80,  -78,  -75,  -73,  -70,  -67,\n",
       "          -65,  -62,  -60,  -57,  -55,  -52,  -50,  -47,  -44,  -42,  -39,  -37,\n",
       "          -34,  -32,  -29,  -26,  -24,  -21,  -19,  -16,  -14,  -11,   -8,   -6,\n",
       "           -3,   -1,    1,    3,    6,    8,   11,   14,   16,   19,   21,   24,\n",
       "           26,   29,   32,   34,   37,   39,   42,   44,   47,   50,   52,   55,\n",
       "           57,   60,   62,   65,   67,   70,   73,   75,   78,   80,   83,   85,\n",
       "           88,   91,   93,   96,   98,  101,  103,  106,  109,  111,  114,  116,\n",
       "          119,  121,  124,  127], dtype=torch.int8),\n",
       " tensor(0.0079, dtype=torch.float64))"
      ]
     },
     "execution_count": 4,
     "metadata": {},
     "output_type": "execute_result"
    }
   ],
   "source": [
    "x_q, scale"
   ]
  },
  {
   "cell_type": "code",
   "execution_count": 5,
   "metadata": {},
   "outputs": [
    {
     "data": {
      "text/plain": [
       "[<matplotlib.lines.Line2D at 0x7f22aad46640>]"
      ]
     },
     "execution_count": 5,
     "metadata": {},
     "output_type": "execute_result"
    },
    {
     "data": {
      "image/png": "[encoded data removed]",
      "text/plain": [
       "<Figure size 432x288 with 1 Axes>"
      ]
     },
     "metadata": {
      "needs_background": "light"
     },
     "output_type": "display_data"
    }
   ],
   "source": [
    "plt.plot(x_q.numpy()*scale.numpy(), np.arange(100), c='r')\n",
    "plt.plot(x, np.arange(100))"
   ]
  },
  {
   "cell_type": "markdown",
   "metadata": {},
   "source": []
  },
  {
   "cell_type": "code",
   "execution_count": null,
   "metadata": {},
   "outputs": [],
   "source": []
  }
 ],
 "metadata": {
  "kernelspec": {
   "display_name": "Python 3",
   "language": "python",
   "name": "python3"
  },
  "language_info": {
   "codemirror_mode": {
    "name": "ipython",
    "version": 3
   },
   "file_extension": ".py",
   "mimetype": "text/x-python",
   "name": "python",
   "nbconvert_exporter": "python",
   "pygments_lexer": "ipython3",
   "version": "3.8.3"
  }
 },
 "nbformat": 4,
 "nbformat_minor": 4
}
